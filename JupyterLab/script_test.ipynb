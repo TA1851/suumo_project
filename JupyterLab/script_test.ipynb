{
 "cells": [
  {
   "cell_type": "code",
   "execution_count": 31,
   "metadata": {},
   "outputs": [
    {
     "data": {
      "text/html": [
       "<div>\n",
       "<style scoped>\n",
       "    .dataframe tbody tr th:only-of-type {\n",
       "        vertical-align: middle;\n",
       "    }\n",
       "\n",
       "    .dataframe tbody tr th {\n",
       "        vertical-align: top;\n",
       "    }\n",
       "\n",
       "    .dataframe thead th {\n",
       "        text-align: right;\n",
       "    }\n",
       "</style>\n",
       "<table border=\"1\" class=\"dataframe\">\n",
       "  <thead>\n",
       "    <tr style=\"text-align: right;\">\n",
       "      <th></th>\n",
       "      <th>0</th>\n",
       "      <th>1</th>\n",
       "      <th>2</th>\n",
       "      <th>3</th>\n",
       "    </tr>\n",
       "  </thead>\n",
       "  <tbody>\n",
       "    <tr>\n",
       "      <th>0</th>\n",
       "      <td>NaN</td>\n",
       "      <td>NaN</td>\n",
       "      <td>NaN</td>\n",
       "      <td>NaN</td>\n",
       "    </tr>\n",
       "    <tr>\n",
       "      <th>1</th>\n",
       "      <td>ワンルーム</td>\n",
       "      <td>3.8万円</td>\n",
       "      <td>NaN</td>\n",
       "      <td>物件を探す</td>\n",
       "    </tr>\n",
       "    <tr>\n",
       "      <th>2</th>\n",
       "      <td>1K</td>\n",
       "      <td>4.4万円</td>\n",
       "      <td>NaN</td>\n",
       "      <td>物件を探す</td>\n",
       "    </tr>\n",
       "    <tr>\n",
       "      <th>3</th>\n",
       "      <td>1DK</td>\n",
       "      <td>4.6万円</td>\n",
       "      <td>NaN</td>\n",
       "      <td>物件を探す</td>\n",
       "    </tr>\n",
       "    <tr>\n",
       "      <th>4</th>\n",
       "      <td>1LDK</td>\n",
       "      <td>5.5万円</td>\n",
       "      <td>NaN</td>\n",
       "      <td>物件を探す</td>\n",
       "    </tr>\n",
       "    <tr>\n",
       "      <th>5</th>\n",
       "      <td>2K</td>\n",
       "      <td>4.7万円</td>\n",
       "      <td>NaN</td>\n",
       "      <td>物件を探す</td>\n",
       "    </tr>\n",
       "    <tr>\n",
       "      <th>6</th>\n",
       "      <td>2DK</td>\n",
       "      <td>6.4万円</td>\n",
       "      <td>NaN</td>\n",
       "      <td>物件を探す</td>\n",
       "    </tr>\n",
       "    <tr>\n",
       "      <th>7</th>\n",
       "      <td>2LDK</td>\n",
       "      <td>6.8万円</td>\n",
       "      <td>NaN</td>\n",
       "      <td>物件を探す</td>\n",
       "    </tr>\n",
       "    <tr>\n",
       "      <th>8</th>\n",
       "      <td>3K</td>\n",
       "      <td>6.5万円</td>\n",
       "      <td>NaN</td>\n",
       "      <td>物件を探す</td>\n",
       "    </tr>\n",
       "    <tr>\n",
       "      <th>9</th>\n",
       "      <td>3DK</td>\n",
       "      <td>6.8万円</td>\n",
       "      <td>NaN</td>\n",
       "      <td>物件を探す</td>\n",
       "    </tr>\n",
       "    <tr>\n",
       "      <th>10</th>\n",
       "      <td>3LDK</td>\n",
       "      <td>8.3万円</td>\n",
       "      <td>NaN</td>\n",
       "      <td>物件を探す</td>\n",
       "    </tr>\n",
       "    <tr>\n",
       "      <th>11</th>\n",
       "      <td>4K</td>\n",
       "      <td>6.9万円</td>\n",
       "      <td>NaN</td>\n",
       "      <td>物件を探す</td>\n",
       "    </tr>\n",
       "    <tr>\n",
       "      <th>12</th>\n",
       "      <td>4DK</td>\n",
       "      <td>14.0万円</td>\n",
       "      <td>NaN</td>\n",
       "      <td>物件を探す</td>\n",
       "    </tr>\n",
       "    <tr>\n",
       "      <th>13</th>\n",
       "      <td>4LDK</td>\n",
       "      <td>-</td>\n",
       "      <td>NaN</td>\n",
       "      <td>物件を探す</td>\n",
       "    </tr>\n",
       "    <tr>\n",
       "      <th>14</th>\n",
       "      <td>5K以上</td>\n",
       "      <td>10.0万円</td>\n",
       "      <td>NaN</td>\n",
       "      <td>物件を探す</td>\n",
       "    </tr>\n",
       "  </tbody>\n",
       "</table>\n",
       "</div>"
      ],
      "text/plain": [
       "        0       1   2      3\n",
       "0     NaN     NaN NaN    NaN\n",
       "1   ワンルーム   3.8万円 NaN  物件を探す\n",
       "2      1K   4.4万円 NaN  物件を探す\n",
       "3     1DK   4.6万円 NaN  物件を探す\n",
       "4    1LDK   5.5万円 NaN  物件を探す\n",
       "5      2K   4.7万円 NaN  物件を探す\n",
       "6     2DK   6.4万円 NaN  物件を探す\n",
       "7    2LDK   6.8万円 NaN  物件を探す\n",
       "8      3K   6.5万円 NaN  物件を探す\n",
       "9     3DK   6.8万円 NaN  物件を探す\n",
       "10   3LDK   8.3万円 NaN  物件を探す\n",
       "11     4K   6.9万円 NaN  物件を探す\n",
       "12    4DK  14.0万円 NaN  物件を探す\n",
       "13   4LDK       - NaN  物件を探す\n",
       "14   5K以上  10.0万円 NaN  物件を探す"
      ]
     },
     "execution_count": 31,
     "metadata": {},
     "output_type": "execute_result"
    }
   ],
   "source": [
    "import pandas as pd\n",
    "df = pd.read_csv('suumo.csv')\n",
    "df"
   ]
  },
  {
   "cell_type": "code",
   "execution_count": 32,
   "metadata": {},
   "outputs": [
    {
     "data": {
      "text/html": [
       "<div>\n",
       "<style scoped>\n",
       "    .dataframe tbody tr th:only-of-type {\n",
       "        vertical-align: middle;\n",
       "    }\n",
       "\n",
       "    .dataframe tbody tr th {\n",
       "        vertical-align: top;\n",
       "    }\n",
       "\n",
       "    .dataframe thead th {\n",
       "        text-align: right;\n",
       "    }\n",
       "</style>\n",
       "<table border=\"1\" class=\"dataframe\">\n",
       "  <thead>\n",
       "    <tr style=\"text-align: right;\">\n",
       "      <th></th>\n",
       "      <th>0</th>\n",
       "      <th>1</th>\n",
       "      <th>3</th>\n",
       "    </tr>\n",
       "  </thead>\n",
       "  <tbody>\n",
       "    <tr>\n",
       "      <th>0</th>\n",
       "      <td>NaN</td>\n",
       "      <td>NaN</td>\n",
       "      <td>NaN</td>\n",
       "    </tr>\n",
       "    <tr>\n",
       "      <th>1</th>\n",
       "      <td>ワンルーム</td>\n",
       "      <td>3.8万円</td>\n",
       "      <td>物件を探す</td>\n",
       "    </tr>\n",
       "    <tr>\n",
       "      <th>2</th>\n",
       "      <td>1K</td>\n",
       "      <td>4.4万円</td>\n",
       "      <td>物件を探す</td>\n",
       "    </tr>\n",
       "    <tr>\n",
       "      <th>3</th>\n",
       "      <td>1DK</td>\n",
       "      <td>4.6万円</td>\n",
       "      <td>物件を探す</td>\n",
       "    </tr>\n",
       "    <tr>\n",
       "      <th>4</th>\n",
       "      <td>1LDK</td>\n",
       "      <td>5.5万円</td>\n",
       "      <td>物件を探す</td>\n",
       "    </tr>\n",
       "    <tr>\n",
       "      <th>5</th>\n",
       "      <td>2K</td>\n",
       "      <td>4.7万円</td>\n",
       "      <td>物件を探す</td>\n",
       "    </tr>\n",
       "    <tr>\n",
       "      <th>6</th>\n",
       "      <td>2DK</td>\n",
       "      <td>6.4万円</td>\n",
       "      <td>物件を探す</td>\n",
       "    </tr>\n",
       "    <tr>\n",
       "      <th>7</th>\n",
       "      <td>2LDK</td>\n",
       "      <td>6.8万円</td>\n",
       "      <td>物件を探す</td>\n",
       "    </tr>\n",
       "    <tr>\n",
       "      <th>8</th>\n",
       "      <td>3K</td>\n",
       "      <td>6.5万円</td>\n",
       "      <td>物件を探す</td>\n",
       "    </tr>\n",
       "    <tr>\n",
       "      <th>9</th>\n",
       "      <td>3DK</td>\n",
       "      <td>6.8万円</td>\n",
       "      <td>物件を探す</td>\n",
       "    </tr>\n",
       "    <tr>\n",
       "      <th>10</th>\n",
       "      <td>3LDK</td>\n",
       "      <td>8.3万円</td>\n",
       "      <td>物件を探す</td>\n",
       "    </tr>\n",
       "    <tr>\n",
       "      <th>11</th>\n",
       "      <td>4K</td>\n",
       "      <td>6.9万円</td>\n",
       "      <td>物件を探す</td>\n",
       "    </tr>\n",
       "    <tr>\n",
       "      <th>12</th>\n",
       "      <td>4DK</td>\n",
       "      <td>14.0万円</td>\n",
       "      <td>物件を探す</td>\n",
       "    </tr>\n",
       "    <tr>\n",
       "      <th>13</th>\n",
       "      <td>4LDK</td>\n",
       "      <td>-</td>\n",
       "      <td>物件を探す</td>\n",
       "    </tr>\n",
       "    <tr>\n",
       "      <th>14</th>\n",
       "      <td>5K以上</td>\n",
       "      <td>10.0万円</td>\n",
       "      <td>物件を探す</td>\n",
       "    </tr>\n",
       "  </tbody>\n",
       "</table>\n",
       "</div>"
      ],
      "text/plain": [
       "        0       1      3\n",
       "0     NaN     NaN    NaN\n",
       "1   ワンルーム   3.8万円  物件を探す\n",
       "2      1K   4.4万円  物件を探す\n",
       "3     1DK   4.6万円  物件を探す\n",
       "4    1LDK   5.5万円  物件を探す\n",
       "5      2K   4.7万円  物件を探す\n",
       "6     2DK   6.4万円  物件を探す\n",
       "7    2LDK   6.8万円  物件を探す\n",
       "8      3K   6.5万円  物件を探す\n",
       "9     3DK   6.8万円  物件を探す\n",
       "10   3LDK   8.3万円  物件を探す\n",
       "11     4K   6.9万円  物件を探す\n",
       "12    4DK  14.0万円  物件を探す\n",
       "13   4LDK       -  物件を探す\n",
       "14   5K以上  10.0万円  物件を探す"
      ]
     },
     "execution_count": 32,
     "metadata": {},
     "output_type": "execute_result"
    }
   ],
   "source": [
    "#列の削除\n",
    "df.drop(df.columns[[2]], axis=1)\n",
    "df"
   ]
  },
  {
   "cell_type": "code",
   "execution_count": 44,
   "metadata": {},
   "outputs": [
    {
     "data": {
      "text/html": [
       "<div>\n",
       "<style scoped>\n",
       "    .dataframe tbody tr th:only-of-type {\n",
       "        vertical-align: middle;\n",
       "    }\n",
       "\n",
       "    .dataframe tbody tr th {\n",
       "        vertical-align: top;\n",
       "    }\n",
       "\n",
       "    .dataframe thead th {\n",
       "        text-align: right;\n",
       "    }\n",
       "</style>\n",
       "<table border=\"1\" class=\"dataframe\">\n",
       "  <thead>\n",
       "    <tr style=\"text-align: right;\">\n",
       "      <th></th>\n",
       "      <th>0</th>\n",
       "      <th>1</th>\n",
       "      <th>3</th>\n",
       "    </tr>\n",
       "  </thead>\n",
       "  <tbody>\n",
       "    <tr>\n",
       "      <th>1</th>\n",
       "      <td>ワンルーム</td>\n",
       "      <td>3.8万円</td>\n",
       "      <td>物件を探す</td>\n",
       "    </tr>\n",
       "    <tr>\n",
       "      <th>2</th>\n",
       "      <td>1K</td>\n",
       "      <td>4.4万円</td>\n",
       "      <td>物件を探す</td>\n",
       "    </tr>\n",
       "    <tr>\n",
       "      <th>3</th>\n",
       "      <td>1DK</td>\n",
       "      <td>4.6万円</td>\n",
       "      <td>物件を探す</td>\n",
       "    </tr>\n",
       "    <tr>\n",
       "      <th>4</th>\n",
       "      <td>1LDK</td>\n",
       "      <td>5.5万円</td>\n",
       "      <td>物件を探す</td>\n",
       "    </tr>\n",
       "    <tr>\n",
       "      <th>5</th>\n",
       "      <td>2K</td>\n",
       "      <td>4.7万円</td>\n",
       "      <td>物件を探す</td>\n",
       "    </tr>\n",
       "    <tr>\n",
       "      <th>6</th>\n",
       "      <td>2DK</td>\n",
       "      <td>6.4万円</td>\n",
       "      <td>物件を探す</td>\n",
       "    </tr>\n",
       "    <tr>\n",
       "      <th>7</th>\n",
       "      <td>2LDK</td>\n",
       "      <td>6.8万円</td>\n",
       "      <td>物件を探す</td>\n",
       "    </tr>\n",
       "    <tr>\n",
       "      <th>8</th>\n",
       "      <td>3K</td>\n",
       "      <td>6.5万円</td>\n",
       "      <td>物件を探す</td>\n",
       "    </tr>\n",
       "    <tr>\n",
       "      <th>9</th>\n",
       "      <td>3DK</td>\n",
       "      <td>6.8万円</td>\n",
       "      <td>物件を探す</td>\n",
       "    </tr>\n",
       "    <tr>\n",
       "      <th>10</th>\n",
       "      <td>3LDK</td>\n",
       "      <td>8.3万円</td>\n",
       "      <td>物件を探す</td>\n",
       "    </tr>\n",
       "    <tr>\n",
       "      <th>11</th>\n",
       "      <td>4K</td>\n",
       "      <td>6.9万円</td>\n",
       "      <td>物件を探す</td>\n",
       "    </tr>\n",
       "    <tr>\n",
       "      <th>12</th>\n",
       "      <td>4DK</td>\n",
       "      <td>14.0万円</td>\n",
       "      <td>物件を探す</td>\n",
       "    </tr>\n",
       "    <tr>\n",
       "      <th>13</th>\n",
       "      <td>4LDK</td>\n",
       "      <td>-</td>\n",
       "      <td>物件を探す</td>\n",
       "    </tr>\n",
       "    <tr>\n",
       "      <th>14</th>\n",
       "      <td>5K以上</td>\n",
       "      <td>10.0万円</td>\n",
       "      <td>物件を探す</td>\n",
       "    </tr>\n",
       "  </tbody>\n",
       "</table>\n",
       "</div>"
      ],
      "text/plain": [
       "        0       1      3\n",
       "1   ワンルーム   3.8万円  物件を探す\n",
       "2      1K   4.4万円  物件を探す\n",
       "3     1DK   4.6万円  物件を探す\n",
       "4    1LDK   5.5万円  物件を探す\n",
       "5      2K   4.7万円  物件を探す\n",
       "6     2DK   6.4万円  物件を探す\n",
       "7    2LDK   6.8万円  物件を探す\n",
       "8      3K   6.5万円  物件を探す\n",
       "9     3DK   6.8万円  物件を探す\n",
       "10   3LDK   8.3万円  物件を探す\n",
       "11     4K   6.9万円  物件を探す\n",
       "12    4DK  14.0万円  物件を探す\n",
       "13   4LDK       -  物件を探す\n",
       "14   5K以上  10.0万円  物件を探す"
      ]
     },
     "execution_count": 44,
     "metadata": {},
     "output_type": "execute_result"
    }
   ],
   "source": [
    "#行番号で削除する\n",
    "df = df.drop(df.index[0])\n",
    "df"
   ]
  },
  {
   "cell_type": "code",
   "execution_count": 47,
   "metadata": {},
   "outputs": [
    {
     "ename": "IndexError",
     "evalue": "index 2 is out of bounds for axis 0 with size 2",
     "output_type": "error",
     "traceback": [
      "\u001b[1;31m---------------------------------------------------------------------------\u001b[0m",
      "\u001b[1;31mIndexError\u001b[0m                                Traceback (most recent call last)",
      "Cell \u001b[1;32mIn[47], line 1\u001b[0m\n\u001b[1;32m----> 1\u001b[0m df \u001b[38;5;241m=\u001b[39m df\u001b[38;5;241m.\u001b[39mdrop(\u001b[43mdf\u001b[49m\u001b[38;5;241;43m.\u001b[39;49m\u001b[43mcolumns\u001b[49m\u001b[43m[\u001b[49m\u001b[43m[\u001b[49m\u001b[38;5;241;43m2\u001b[39;49m\u001b[43m]\u001b[49m\u001b[43m]\u001b[49m, axis\u001b[38;5;241m=\u001b[39m\u001b[38;5;241m1\u001b[39m)\n\u001b[0;32m      2\u001b[0m df\u001b[38;5;241m.\u001b[39mto_csv(\u001b[38;5;124m'\u001b[39m\u001b[38;5;124msuumo_edit.csv\u001b[39m\u001b[38;5;124m'\u001b[39m)\n",
      "File \u001b[1;32mc:\\Users\\nix55\\scoop\\apps\\python\\current\\Lib\\site-packages\\pandas\\core\\indexes\\base.py:5416\u001b[0m, in \u001b[0;36mIndex.__getitem__\u001b[1;34m(self, key)\u001b[0m\n\u001b[0;32m   5407\u001b[0m         \u001b[38;5;28;01mif\u001b[39;00m \u001b[38;5;28mlen\u001b[39m(key) \u001b[38;5;241m==\u001b[39m \u001b[38;5;241m0\u001b[39m \u001b[38;5;129;01mand\u001b[39;00m \u001b[38;5;28mlen\u001b[39m(key) \u001b[38;5;241m!=\u001b[39m \u001b[38;5;28mlen\u001b[39m(\u001b[38;5;28mself\u001b[39m):\n\u001b[0;32m   5408\u001b[0m             warnings\u001b[38;5;241m.\u001b[39mwarn(\n\u001b[0;32m   5409\u001b[0m                 \u001b[38;5;124m\"\u001b[39m\u001b[38;5;124mUsing a boolean indexer with length 0 on an Index with \u001b[39m\u001b[38;5;124m\"\u001b[39m\n\u001b[0;32m   5410\u001b[0m                 \u001b[38;5;124m\"\u001b[39m\u001b[38;5;124mlength greater than 0 is deprecated and will raise in a \u001b[39m\u001b[38;5;124m\"\u001b[39m\n\u001b[1;32m   (...)\u001b[0m\n\u001b[0;32m   5413\u001b[0m                 stacklevel\u001b[38;5;241m=\u001b[39mfind_stack_level(),\n\u001b[0;32m   5414\u001b[0m             )\n\u001b[1;32m-> 5416\u001b[0m result \u001b[38;5;241m=\u001b[39m \u001b[43mgetitem\u001b[49m\u001b[43m(\u001b[49m\u001b[43mkey\u001b[49m\u001b[43m)\u001b[49m\n\u001b[0;32m   5417\u001b[0m \u001b[38;5;66;03m# Because we ruled out integer above, we always get an arraylike here\u001b[39;00m\n\u001b[0;32m   5418\u001b[0m \u001b[38;5;28;01mif\u001b[39;00m result\u001b[38;5;241m.\u001b[39mndim \u001b[38;5;241m>\u001b[39m \u001b[38;5;241m1\u001b[39m:\n",
      "\u001b[1;31mIndexError\u001b[0m: index 2 is out of bounds for axis 0 with size 2"
     ]
    }
   ],
   "source": [
    "df = df.drop(df.columns[[2]], axis=1)\n",
    "df"
   ]
  },
  {
   "cell_type": "code",
   "execution_count": 48,
   "metadata": {},
   "outputs": [],
   "source": [
    "df.to_csv('suumo_edit.csv')"
   ]
  },
  {
   "cell_type": "code",
   "execution_count": 1,
   "metadata": {},
   "outputs": [],
   "source": [
    "import requests\n",
    "import pandas as pd\n",
    "\n",
    "# APIキーの設定\n",
    "api_key = 'Google MAP_API_KEY'\n",
    "\n",
    "# 検索する住所\n",
    "addresses = [\"〒062-0907 北海道札幌市豊平区豊平７条１０丁目４−１８\",\n",
    "            \"〒062-0906 北海道札幌市豊平区豊平６条３丁目６−３０\",\n",
    "            \"〒062-0903 北海道札幌市豊平区豊平３条１３丁目１−１２\",\n",
    "            \"〒062-0904 北海道札幌市豊平区豊平４条７丁目１−１\"\n",
    "            \"〒062-0906 北海道札幌市豊平区豊平６条７丁目１−４７\",\n",
    "            \"〒062-0905 北海道札幌市豊平区豊平５条２丁目３−６\",\n",
    "            \"〒062-0901 北海道札幌市豊平区豊平１条２丁目１−２５\",\n",
    "            \"〒062-0902 北海道札幌市豊平区豊平２条８ 丁目１−３５\",\n",
    "            \"〒062-0903 北海道札幌市豊平区豊平３条１０丁目１−３０\",\n",
    "            \"〒062-0931 北海道札幌市豊平区平岸１条６丁目３−４０\",\n",
    "            \"〒062-0903 北海道札幌市豊平区豊平３条１丁目１−３９\",\n",
    "            \"〒062-0003 北海道札幌市豊平区美園３条２丁目１−１６\",\n",
    "            \"〒062-0901 北海道札幌市豊平区豊平１条８丁目２−５\",\n",
    "            \"〒062-0931 北海道札幌市豊平区平岸１条１７丁目８−３３\",\n",
    "            \"〒062-0934 北海道札幌市豊平区平岸４条１３丁目１４\",\n",
    "            \"〒062-0907 北海道札幌市豊平区豊平７条７丁目３−２６\",\n",
    "            \"〒062-0934 北海道札幌市豊平区平岸４条７丁目１２−１４\",\n",
    "            \"〒062-0933 北海道札幌市豊平区平岸３条４丁目８−１\",\n",
    "            \"〒062-0053 北海道札幌市豊平区月寒東３条４丁目１−１\",\n",
    "            \"〒062-0932 北海道札幌市豊平区平岸２条７丁目４−２０\",\n",
    "            \"〒062-0055 北海道札幌市豊平区月寒東５条７丁目４−１３\",\n",
    "            \"〒062-0041 北海道札幌市豊平区福住１条１丁目１−１１\",\n",
    "            \"〒062-0906 北海道札幌市豊平区豊平６条３丁目５−２８\",\n",
    "            \"〒062-0911 北海道札幌市豊平区旭町７丁目４−１２\",\n",
    "            \"〒062-0932 北海道札幌市豊平区平岸２条７丁目４−５\",\n",
    "            \"〒062-0020 北海道札幌市豊平区月寒中央通１１丁目７−１６\",\n",
    "            \"〒062-0933 北海道札幌市豊平区平岸３条８丁目１−２８\",\n",
    "            \"〒062-0008 北海道札幌市豊平区美園８条１丁目１−３\",\n",
    "            \"〒062-0020 北海道札幌市豊平区月寒中央通８丁目４−１\",\n",
    "            \"〒062-0010 北海道札幌市豊平区美園１０条６丁目３−８\",\n",
    "            \"〒062-0055 北海道札幌市豊平区月寒東５条９丁目４−２０\",\n",
    "            \"〒062-0935 北海道札幌市豊平区平岸５条１０丁目７−１\",\n",
    "            \"〒062-0033 北海道札幌市豊平区西岡３条１丁目４−１\",\n",
    "            \"〒062-0933 北海道札幌市豊平区平岸３条１０丁目３８−１\",\n",
    "            \"〒062-0934 北海道札幌市豊平区平岸４条９丁目１５−５\",\n",
    "            \"〒062-0055 北海道札幌市豊平区月寒東５条１１丁目８−１３\",\n",
    "            \"〒062-0005 北海道札幌市豊平区美園５条４丁目１−２３\",\n",
    "            \"〒062-0020 北海道札幌市豊平区月寒中央通９丁目３−３２\",\n",
    "            \"〒062-0931 北海道札幌市豊平区平岸１条１０丁目８−７\",\n",
    "            \"〒062-0020 北海道札幌市豊平区月寒中央通６丁目３−２８\",\n",
    "            \"〒062-0931 北海道札幌市豊平区平岸１条３丁目２−３３\",\n",
    "            \"〒062-0008 北海道札幌市豊平区美園８条７丁目２−６\",\n",
    "            \"〒062-0933 北海道札幌市豊平区平岸３条１４丁目２−５\",\n",
    "            \"〒062-0933 北海道札幌市豊平区平岸３条８丁目３−８\",\n",
    "            \"〒062-0932 北海道札幌市豊平区平岸２条７丁目１−２５\"\n",
    "            ]\n",
    "\n",
    "# 結果を保存するリスト\n",
    "results = []\n",
    "\n",
    "# 各住所に対してリクエストを送信\n",
    "for address in addresses:\n",
    "    url = f'https://maps.googleapis.com/maps/api/geocode/json?address={address}&key={api_key}&language=ja'\n",
    "    response = requests.get(url)\n",
    "    if response.status_code == 200:\n",
    "        data = response.json()\n",
    "        if data['status'] == 'OK':\n",
    "            results.append(data['results'][0]['formatted_address'])\n",
    "\n",
    "# データフレームを作成\n",
    "df = pd.DataFrame(results, columns=['Address'])\n",
    "\n",
    "# Excelファイルに保存\n",
    "df.to_excel('addresses.xlsx', index=False)\n",
    "\n",
    "# CSVファイルにも保存できます\n",
    "df.to_csv('addresses.csv', index=False)"
   ]
  },
  {
   "cell_type": "code",
   "execution_count": 1,
   "metadata": {},
   "outputs": [],
   "source": [
    "import pandas as pd"
   ]
  },
  {
   "cell_type": "code",
   "execution_count": 1,
   "metadata": {},
   "outputs": [
    {
     "name": "stdout",
     "output_type": "stream",
     "text": [
      "['Alice', 'Bob', 'Charle']\n"
     ]
    }
   ],
   "source": [
    "l = ['Charle', 'Bob', 'Alice']\n",
    "l_sorted = sorted(l)\n",
    "# 文字列のリストは、デフォルトではアルファベット順（辞書順）にソートされる\n",
    "print(l_sorted)"
   ]
  },
  {
   "cell_type": "code",
   "execution_count": 2,
   "metadata": {},
   "outputs": [
    {
     "name": "stdout",
     "output_type": "stream",
     "text": [
      "['Bob', 'Alice', 'Charle']\n"
     ]
    }
   ],
   "source": [
    "# 関数len()を引数keyに指定すると、文字数が少ない順にソートされる\n",
    "l_sorted_len = sorted(l, key=len)\n",
    "print(l_sorted_len)"
   ]
  },
  {
   "cell_type": "code",
   "execution_count": 8,
   "metadata": {},
   "outputs": [
    {
     "name": "stdout",
     "output_type": "stream",
     "text": [
      "['ceh', 'bfi', 'agj']\n"
     ]
    }
   ],
   "source": [
    "# 2文字目を取得するラムダ式を引数keyに指定すると、2文字目のアルファベット順にソートされる\n",
    "x = ['agj', 'bfi', 'ceh']\n",
    "y = sorted(x, key=lambda x: x[1])\n",
    "print(y)"
   ]
  },
  {
   "cell_type": "code",
   "execution_count": 9,
   "metadata": {},
   "outputs": [
    {
     "name": "stdout",
     "output_type": "stream",
     "text": [
      "<map object at 0x00000220942CFA60>\n",
      "[0, 1, 4, 9]\n"
     ]
    }
   ],
   "source": [
    "l = [0, 1, 2, 3]\n",
    "map_square = map(lambda x: x**2, l)\n",
    "print(map_square) # <map object at 0x1072fd128>\n",
    "print(list(map_square))"
   ]
  },
  {
   "cell_type": "code",
   "execution_count": 14,
   "metadata": {},
   "outputs": [
    {
     "name": "stdout",
     "output_type": "stream",
     "text": [
      "[0, 2, 4]\n"
     ]
    }
   ],
   "source": [
    "# リスト内包表記（新しいリストを生成する処理をシンプルに書ける）\n",
    "squares = [i*2 for i in range(3)]\n",
    "print(squares)"
   ]
  },
  {
   "cell_type": "code",
   "execution_count": 12,
   "metadata": {},
   "outputs": [
    {
     "name": "stdout",
     "output_type": "stream",
     "text": [
      "[0, 2, 4, 6, 8]\n"
     ]
    }
   ],
   "source": [
    "# リスト内包表記とIF文\n",
    "odds = [i for i in range(10) if i % 2 == 0]\n",
    "print(odds)"
   ]
  },
  {
   "cell_type": "code",
   "execution_count": 1,
   "metadata": {},
   "outputs": [
    {
     "name": "stdout",
     "output_type": "stream",
     "text": [
      "2020 Toyota Corolla\n"
     ]
    }
   ],
   "source": [
    "# 特殊メソッド\n",
    "class Car:\n",
    "    def __init__(self, make, model, year):\n",
    "        self.make = make\n",
    "        self.model = model\n",
    "        self.year = year\n",
    "\n",
    "    def display_info(self):\n",
    "        return f\"{self.year} {self.make} {self.model}\"\n",
    "\n",
    "# クラスのインスタンスを作成\n",
    "my_car = Car(\"Toyota\", \"Corolla\", 2020)\n",
    "\n",
    "# 情報の表示\n",
    "print(my_car.display_info())"
   ]
  },
  {
   "cell_type": "code",
   "execution_count": 2,
   "metadata": {},
   "outputs": [
    {
     "name": "stdout",
     "output_type": "stream",
     "text": [
      "True\n",
      "I am the singleton instance\n"
     ]
    }
   ],
   "source": [
    "class Singleton:\n",
    "    _instance = None\n",
    "\n",
    "    def __new__(cls):\n",
    "        if cls._instance is None:\n",
    "            cls._instance = super(Singleton, cls).__new__(cls)\n",
    "            # ここでインスタンスの追加の初期化を行うこともできますが、\n",
    "            # 通常は __init__ で行います。\n",
    "        return cls._instance\n",
    "\n",
    "    def __init__(self):\n",
    "        self.value = \"I am the singleton instance\"\n",
    "\n",
    "# シングルトンのインスタンスを作成\n",
    "singleton1 = Singleton()\n",
    "singleton2 = Singleton()\n",
    "\n",
    "# どちらのインスタンスも同一であることを確認\n",
    "print(singleton1 is singleton2)  # True\n",
    "print(singleton1.value)          # I am the singleton instance\n"
   ]
  },
  {
   "cell_type": "code",
   "execution_count": 3,
   "metadata": {},
   "outputs": [
    {
     "name": "stdout",
     "output_type": "stream",
     "text": [
      "(1, 2, 3)\n",
      "6\n"
     ]
    }
   ],
   "source": [
    "# カスタムイミュータブルデータ型の作成\n",
    "class ImmutableTuple(tuple):\n",
    "    def __new__(cls, iterable):\n",
    "        # 元のiterableからtupleを作成し、それを返します\n",
    "        obj = super(ImmutableTuple, cls).__new__(cls, iterable)\n",
    "        return obj\n",
    "\n",
    "    def __init__(self, iterable):\n",
    "        # 追加の初期化処理が必要な場合はここで行います\n",
    "        self.sum = sum(self)\n",
    "\n",
    "# カスタムイミュータブルタプルの使用例\n",
    "my_tuple = ImmutableTuple([1, 2, 3])\n",
    "print(my_tuple)  # (1, 2, 3)\n",
    "print(my_tuple.sum)  # 6"
   ]
  },
  {
   "cell_type": "code",
   "execution_count": 4,
   "metadata": {},
   "outputs": [
    {
     "name": "stdout",
     "output_type": "stream",
     "text": [
      "Connection limit exceeded\n"
     ]
    }
   ],
   "source": [
    "# リソース管理のためのインスタンス制御\n",
    "class DatabaseConnection:\n",
    "    _instance_count = 0\n",
    "    _max_instances = 3\n",
    "\n",
    "    def __new__(cls):\n",
    "        if cls._instance_count < cls._max_instances:\n",
    "            instance = super(DatabaseConnection, cls).__new__(cls)\n",
    "            cls._instance_count += 1\n",
    "            return instance\n",
    "        else:\n",
    "            raise Exception(\"Connection limit exceeded\")\n",
    "\n",
    "    def __init__(self):\n",
    "        self.connection = \"Connection established\"\n",
    "\n",
    "    def close(self):\n",
    "        # 接続を閉じるメソッド\n",
    "        self.connection = \"Connection closed\"\n",
    "        self.__class__._instance_count -= 1\n",
    "\n",
    "# データベース接続の使用例\n",
    "try:\n",
    "    conn1 = DatabaseConnection()\n",
    "    conn2 = DatabaseConnection()\n",
    "    conn3 = DatabaseConnection()\n",
    "    conn4 = DatabaseConnection()  # ここで例外が発生\n",
    "except Exception as e:\n",
    "    print(e)  # Connection limit exceeded\n"
   ]
  },
  {
   "cell_type": "code",
   "execution_count": 3,
   "metadata": {},
   "outputs": [],
   "source": [
    "import pandas as pd\n",
    "import numpy as np"
   ]
  },
  {
   "cell_type": "code",
   "execution_count": 17,
   "metadata": {},
   "outputs": [],
   "source": [
    "# 100000行のデータフレームを作成\n",
    "df = pd.DataFrame(np.random.rand(100000, 2), columns=['A', 'B'])\n",
    "df[\"C\"] = np.nan\n",
    "\n",
    "def test_map(x):\n",
    "  return x+1"
   ]
  },
  {
   "cell_type": "markdown",
   "metadata": {},
   "source": [
    "df.shape[0]で、dfの行数を返し、各行に対してループを実行する。（0-100000行）\n",
    "\n",
    "df.loc[i, \"C\"]は、dfのi行目の\"A\"列のデータを取得する\n",
    "\n",
    "test_map(df.loc[i, \"A\"])は、取得したデータを test_map 関数に渡してdf.loc[i, \"C\"]に渡す。\n",
    "\n",
    "for文とmap関数で評価する"
   ]
  },
  {
   "cell_type": "code",
   "execution_count": 18,
   "metadata": {},
   "outputs": [
    {
     "name": "stdout",
     "output_type": "stream",
     "text": [
      "CPU times: total: 6.97 s\n",
      "Wall time: 6.98 s\n"
     ]
    }
   ],
   "source": [
    "%%time \n",
    "for i in range(df.shape[0]):\n",
    "  df.loc[i, \"C\"] = test_map(df.loc[i, \"A\"])"
   ]
  },
  {
   "cell_type": "code",
   "execution_count": 19,
   "metadata": {},
   "outputs": [
    {
     "name": "stdout",
     "output_type": "stream",
     "text": [
      "CPU times: total: 15.6 ms\n",
      "Wall time: 14 ms\n"
     ]
    }
   ],
   "source": [
    "%%time\n",
    "df[\"C\"] = df[\"A\"].map(test_map)"
   ]
  },
  {
   "cell_type": "markdown",
   "metadata": {},
   "source": [
    "ベクトル化された操作"
   ]
  },
  {
   "cell_type": "code",
   "execution_count": 22,
   "metadata": {},
   "outputs": [
    {
     "name": "stdout",
     "output_type": "stream",
     "text": [
      "CPU times: total: 46.9 ms\n",
      "Wall time: 22 ms\n"
     ]
    }
   ],
   "source": [
    "%%time\n",
    "df['C'] = df['A'].apply(test_map)"
   ]
  },
  {
   "cell_type": "code",
   "execution_count": 7,
   "metadata": {},
   "outputs": [],
   "source": [
    "import pandas as pd\n",
    "\n",
    "# CSVファイルを開く\n",
    "df = pd.read_csv('hiragishi_4.csv', encoding='utf-8')  # 開く際のエンコーディングを指定\n",
    "\n",
    "# 文字列を含む列の改行を削除する\n",
    "for col in df.select_dtypes(include=['object']).columns:\n",
    "    df[col] = df[col].replace('\\n', '', regex=True)\n",
    "    \n",
    "# 新しいエンコーディングでCSVファイルを保存\n",
    "df.replace({'\\uff0d': '-'}, regex=True, inplace=True)\n",
    "df.to_csv('hiragishi_5.csv', encoding='shift_jis', index=False)"
   ]
  },
  {
   "cell_type": "code",
   "execution_count": 8,
   "metadata": {},
   "outputs": [
    {
     "name": "stdout",
     "output_type": "stream",
     "text": [
      "Screen width: 1920\n",
      "Screen height: 1080\n"
     ]
    }
   ],
   "source": [
    "import pyautogui\n",
    "\n",
    "# スクリーンの解像度を取得\n",
    "screen_width, screen_height = pyautogui.size()\n",
    "\n",
    "print(\"Screen width:\", screen_width)\n",
    "print(\"Screen height:\", screen_height)"
   ]
  },
  {
   "cell_type": "code",
   "execution_count": null,
   "metadata": {},
   "outputs": [],
   "source": []
  }
 ],
 "metadata": {
  "kernelspec": {
   "display_name": "Python 3",
   "language": "python",
   "name": "python3"
  },
  "language_info": {
   "codemirror_mode": {
    "name": "ipython",
    "version": 3
   },
   "file_extension": ".py",
   "mimetype": "text/x-python",
   "name": "python",
   "nbconvert_exporter": "python",
   "pygments_lexer": "ipython3",
   "version": "3.12.2"
  }
 },
 "nbformat": 4,
 "nbformat_minor": 2
}
